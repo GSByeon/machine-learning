{
 "cells": [
  {
   "cell_type": "markdown",
   "metadata": {},
   "source": [
    "## 5 - Q&A Modo API\n",
    "---\n",
    "A Inteligência artificial do '5' permite obter respostas para questões feitas em linguagem natural (pt-BR). Para isto, um agente foi treinado sob o corpus da Wikipedia/2016. \n",
    "Logo, o serviço de API Q&A do 5 permite uma integração muliplataforma para a resolução aberta de questões.\n",
    "\n",
    "Para iniciar a API Q&A do 5, executar os comandos na VM:\n",
    "\n",
    "> export CLASSPATH=;\n",
    "\n",
    "> export CLASSPATH=/home/vmdev/notebooks/5/DrQA/data/corenlp/*;\n",
    "\n",
    "> cd ~/notebooks/5/api; \n",
    "\n",
    "> python server.py\n",
    "\n",
    "Após iniciado o servidor, a API pode ser invocada através do endereço URL\n",
    "\n",
    "> https://13.83.91.203:5000/answer\n",
    "\n",
    "Fornecendo o parâmetro *question* com a pergunta a ser enviada para o Q&A.\n",
    "\n",
    "Exemplo 1 - requisição 'GET':\n",
    "\n",
    "> https://13.83.91.203:5000/answer?question=Quais%20os%20sintomas%20da%20Zika?\n",
    "\n",
    "Exemplo 2 - Código Python (Get / POST):"
   ]
  },
  {
   "cell_type": "code",
   "execution_count": 6,
   "metadata": {},
   "outputs": [
    {
     "name": "stdout",
     "output_type": "stream",
     "text": [
      "Digite sua dúvida: Quem é Pelé?\n"
     ]
    },
    {
     "data": {
      "text/plain": [
       "{'answer': [{'answer': 'um jogador de futebol profissional brasileiro aposentado',\n",
       "   'answer_score': 361.7400817871,\n",
       "   'context': {'end': 64,\n",
       "    'start': 21,\n",
       "    'text': 'conhecido como Pelé (), é um jogador de futebol profissional brasileiro aposentado que jogou como atacante. Ele é amplamente considerado como o maior jogador de todos os tempos. Pelé também é conhecido por conectar a frase \"The Beautiful Game\" com o futebol. Em 1999, ele foi eleito o Melhor Jogador do Século pela Federação Internacional de História e Estatística do Futebol (IFFHS). Naquele ano, \"France Football\" pediu a seus antigos vencedores do Ballon d\\'Or que escolhessem o Jogador de Futebol do Século; eles selecionaram Pelé. Em 1999, Pelé foi eleito Atleta do Século pelo COI. Naquele ano, \"Time\" nomeou-o em sua lista de. Em 2013, ele recebeu a Bola de Ouro da FIFA Prix d\\'Honneur em reconhecimento à sua carreira e conquistas como um ícone global do futebol.'},\n",
       "   'doc_id': 'Pelé',\n",
       "   'doc_score': 281.5954614084,\n",
       "   'rank': 1}]}"
      ]
     },
     "execution_count": 6,
     "metadata": {},
     "output_type": "execute_result"
    }
   ],
   "source": [
    "import requests\n",
    "import warnings\n",
    "warnings.filterwarnings(\"ignore\")\n",
    "\n",
    "q = str(input('Digite sua dúvida: ')).replace('?', '') + '?'\n",
    "\n",
    "retorno = requests.get('https://13.83.91.203:5000/answer?question='+q, verify=False)\n",
    "retorno.json()"
   ]
  },
  {
   "cell_type": "code",
   "execution_count": null,
   "metadata": {},
   "outputs": [],
   "source": []
  }
 ],
 "metadata": {
  "kernelspec": {
   "display_name": "Python 3",
   "language": "python",
   "name": "python3"
  },
  "language_info": {
   "codemirror_mode": {
    "name": "ipython",
    "version": 3
   },
   "file_extension": ".py",
   "mimetype": "text/x-python",
   "name": "python",
   "nbconvert_exporter": "python",
   "pygments_lexer": "ipython3",
   "version": "3.5.4"
  }
 },
 "nbformat": 4,
 "nbformat_minor": 2
}
