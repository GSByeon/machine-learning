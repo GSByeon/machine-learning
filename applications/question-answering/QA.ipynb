{
 "cells": [
  {
   "cell_type": "markdown",
   "metadata": {},
   "source": [
    "## 5 - Q&A Modo Leitor\n",
    "---\n",
    "Neste modo, o agente consome um texto (documento) fornecido a priori para estabelecer sua base de conhecimento. A partir disto, o agente está apto para responder um questionamento dentro deste domínio."
   ]
  },
  {
   "cell_type": "code",
   "execution_count": 2,
   "metadata": {
    "scrolled": true
   },
   "outputs": [],
   "source": [
    "import drqa.tokenizers\n",
    "drqa.tokenizers.set_default('corenlp_classpath', 'DrQA/data/corenlp/*')\n",
    "\n",
    "import drqa.reader\n",
    "drqa.reader.set_default('model', 'DrQA/data/reader/single.mdl')\n",
    "reader = drqa.reader.Predictor()\n",
    "\n",
    "from googletrans import Translator\n",
    "translator = Translator(service_urls=[\n",
    "      'translate.google.com',\n",
    "      'translate.google.co.kr',\n",
    "    ])\n",
    "\n",
    "import warnings\n",
    "warnings.filterwarnings(\"ignore\")"
   ]
  },
  {
   "cell_type": "code",
   "execution_count": 3,
   "metadata": {},
   "outputs": [],
   "source": [
    "def processReader(oDocument, oQuestion, translate = False, tSrc = 'pt', tDest = 'en'):\n",
    "    \n",
    "    if translate:\n",
    "        document = translator.translate(oDocument, src = tSrc, dest = tDest).text\n",
    "        question = translator.translate(oQuestion, src = tSrc, dest = tDest).text\n",
    "    else:\n",
    "        document = oDocument\n",
    "        question = oQuestion\n",
    "        \n",
    "    result = reader.predict(document, question)\n",
    "    if result:\n",
    "        if translate:\n",
    "            print('Resposta(s):')\n",
    "        else:\n",
    "            print('Answer(s):')\n",
    "            \n",
    "        i = 0\n",
    "        for a in result:\n",
    "            i += 1\n",
    "            if translate:\n",
    "                r = translator.translate(a[0], src = tDest, dest = tSrc).text\n",
    "                response = str(i)+') '+ r +' / Prob.: '+ str(round(a[1]*100,2)) +'%'\n",
    "            else:\n",
    "                response = str(i)+') '+ a[0] +' / Prob.: '+ str(round(a[1]*100,2)) +'%'\n",
    "            print(response)"
   ]
  },
  {
   "cell_type": "code",
   "execution_count": 4,
   "metadata": {
    "scrolled": true
   },
   "outputs": [
    {
     "name": "stderr",
     "output_type": "stream",
     "text": [
      "/home/vmdev/notebooks/5/DrQA/drqa/reader/layers.py:209: UserWarning: Implicit dimension choice for softmax has been deprecated. Change the call to include dim=X as an argument.\n",
      "  alpha_flat = F.softmax(scores.view(-1, y.size(1)))\n",
      "/home/vmdev/notebooks/5/DrQA/drqa/reader/layers.py:280: UserWarning: Implicit dimension choice for softmax has been deprecated. Change the call to include dim=X as an argument.\n",
      "  alpha = F.softmax(scores)\n",
      "/home/vmdev/notebooks/5/DrQA/drqa/reader/layers.py:253: UserWarning: Implicit dimension choice for softmax has been deprecated. Change the call to include dim=X as an argument.\n",
      "  alpha = F.softmax(xWy)\n"
     ]
    },
    {
     "name": "stdout",
     "output_type": "stream",
     "text": [
      "Resposta(s):\n",
      "1) Transtorno Global do Desenvolvimento / Prob.: 33.73%\n"
     ]
    }
   ],
   "source": [
    "document = \"O autismo, também chamado de Transtorno do Espectro Autista, é um Transtorno Global do Desenvolvimento (TGD) que tem influência genética e é causado por defeitos em partes do cérebro, como o cerebelo, por exemplo.\"\n",
    "question = \"O que é autismo?\"\n",
    "processReader(document, question, True)"
   ]
  },
  {
   "cell_type": "code",
   "execution_count": 13,
   "metadata": {
    "scrolled": true
   },
   "outputs": [
    {
     "name": "stdout",
     "output_type": "stream",
     "text": [
      "Resposta(s):\n",
      "1) ausente ou infreqüente / Prob.: 11.1%\n"
     ]
    }
   ],
   "source": [
    "document = \"Para o autista, o relacionamento com outras pessoas costuma não despertar interesse. O contato visual com o outro é ausente ou pouco frequente e a fala, usada com dificuldade. Algumas frases podem ser constantemente repetidas e a comunicação acaba se dando, principalmente, por gestos. Por isso, evita-se o contato físico no relacionamento com o autista - já que o mundo, para ele, parece ameaçador. Insistir neste tipo de contato ou promover mudanças bruscas na rotina dessas crianças pode desencadear crises de agressividade.\"\n",
    "question = \"Como é o contato visual do autista?\"\n",
    "processReader(document, question, True)"
   ]
  },
  {
   "cell_type": "code",
   "execution_count": 14,
   "metadata": {},
   "outputs": [
    {
     "name": "stdout",
     "output_type": "stream",
     "text": [
      "Resposta(s):\n",
      "1) vale a pena criar situações de interação / Prob.: 20.21%\n"
     ]
    }
   ],
   "source": [
    "document = \"Para minimizar essa dificuldade de convívio social, vale criar situações de interação. Respeite o limite da criança autista, seja claro nos enunciados, amplie o tempo para que ele realize as atividades propostas e sempre comunique mudanças na rotina antecipadamente. A paciência para lidar com essas crianças é fundamental, já que pelo menos 50% dos autistas apresentam graus variáveis de deficiência intelectual. Alguns, ao contrário, apresentam alto desempenho e desenvolvem habilidades específicas - como ter muita facilidade para memorizar números ou deter um conhecimento muito específico sobre informática, por exemplo. Descobrir e explorar as 'eficiências' do autista é um bom caminho para o seu desenvolvimento.\"\n",
    "question = \"O que pode ser feito para minimizar a dificuldade de convívio social?\"\n",
    "processReader(document, question, True)"
   ]
  },
  {
   "cell_type": "code",
   "execution_count": 16,
   "metadata": {},
   "outputs": [
    {
     "name": "stdout",
     "output_type": "stream",
     "text": [
      "Resposta(s):\n",
      "1) dor de cabeça, febre baixa, dores articulares leves / Prob.: 10.96%\n"
     ]
    }
   ],
   "source": [
    "document = \"Cerca de 80% das pessoas infectadas pelo vírus Zika não desenvolvem manifestações clínicas. Os principais sintomas são dor de cabeça, febre baixa, dores leves nas articulações, manchas vermelhas na pele, coceira e vermelhidão nos olhos. Outros sintomas menos frequentes são inchaço no corpo, dor de garganta\"\n",
    "question = \"Quais são os sintomas da Zika?\"\n",
    "processReader(document, question, True)"
   ]
  },
  {
   "cell_type": "code",
   "execution_count": 25,
   "metadata": {
    "scrolled": true
   },
   "outputs": [
    {
     "name": "stdout",
     "output_type": "stream",
     "text": [
      "Resposta(s):\n",
      "1) Dimas / Prob.: 57.03%\n"
     ]
    }
   ],
   "source": [
    "document = \"A Nathalia mora em São Paulo e estuda Pedagogia e a professão será pedagoga, o Dimas é o amor da vida dela.\"\n",
    "question = \"Quem a Nathalia ama?\"\n",
    "processReader(document, question, True)"
   ]
  },
  {
   "cell_type": "code",
   "execution_count": 19,
   "metadata": {},
   "outputs": [
    {
     "name": "stdout",
     "output_type": "stream",
     "text": [
      "Resposta(s):\n",
      "1) São Paulo e estuda Pedagogia / Prob.: 49.08%\n"
     ]
    }
   ],
   "source": [
    "document = \"A Nathalia mora em São Paulo e estuda Pedagogia, o Dimas é o xuxu da vida dela.\"\n",
    "question = \"A Nathalia estuda o que e onde ela mora?\"\n",
    "processReader(document, question, True)"
   ]
  },
  {
   "cell_type": "code",
   "execution_count": 36,
   "metadata": {},
   "outputs": [
    {
     "name": "stdout",
     "output_type": "stream",
     "text": [
      "Resposta(s):\n",
      "1) Nacionalismo desenvolvimentista / Prob.: 28.9%\n"
     ]
    }
   ],
   "source": [
    "document = \"A Lei n º 5692/71 fixou Diretrizes e Bases para o ensino de 1 º e 2 º graus (a atual educação básica) e trouxe alterações no sentido de conter os aspectos liberais constantes na lei anterior, estabelecendo um ensino tecnicista para atender ao regime vigente voltado para a ideologia do Nacionalismo Desenvolvimentista. Completa, ainda, o ciclo de reformas educacionais geradas com o intuito de efetuar o ajustamento necessário da educação nacional à ruptura política orquestrada pelo movimento de 64, e com a nuance de efetivar-se em uma conjuntura política caracterizada pelo ápice da ideologia\"\n",
    "question = \"A idealogia da lei n º 5692/71 era voltada para que?\"\n",
    "processReader(document, question, True)"
   ]
  },
  {
   "cell_type": "code",
   "execution_count": 6,
   "metadata": {},
   "outputs": [
    {
     "name": "stderr",
     "output_type": "stream",
     "text": [
      "/home/vmdev/notebooks/5/DrQA/drqa/reader/layers.py:209: UserWarning: Implicit dimension choice for softmax has been deprecated. Change the call to include dim=X as an argument.\n",
      "  alpha_flat = F.softmax(scores.view(-1, y.size(1)))\n",
      "/home/vmdev/notebooks/5/DrQA/drqa/reader/layers.py:280: UserWarning: Implicit dimension choice for softmax has been deprecated. Change the call to include dim=X as an argument.\n",
      "  alpha = F.softmax(scores)\n",
      "/home/vmdev/notebooks/5/DrQA/drqa/reader/layers.py:253: UserWarning: Implicit dimension choice for softmax has been deprecated. Change the call to include dim=X as an argument.\n",
      "  alpha = F.softmax(xWy)\n"
     ]
    },
    {
     "name": "stdout",
     "output_type": "stream",
     "text": [
      "Resposta(s):\n",
      "1) má capacidade de leitura / Prob.: 42.99%\n"
     ]
    }
   ],
   "source": [
    "document = \"Muitos professores acreditarem que as dificuldades apresentadas por seus alunos em ler e interpretar um problema ou exercício de matemática estão associadas a pouca competência que eles têm para leitura. Também é comum a concepção de que, se o aluno tivesse mais fluência na leitura nas aulas de língua materna, conseqüentemente ele seria um melhor leitor nas aulas de matemática.\"\n",
    "question = \"Qual é a maior dificuldade apresentada por alunos em matemática?\"\n",
    "processReader(document, question, True)"
   ]
  },
  {
   "cell_type": "code",
   "execution_count": 5,
   "metadata": {},
   "outputs": [
    {
     "name": "stderr",
     "output_type": "stream",
     "text": [
      "/home/vmdev/notebooks/5/DrQA/drqa/reader/layers.py:209: UserWarning: Implicit dimension choice for softmax has been deprecated. Change the call to include dim=X as an argument.\n",
      "  alpha_flat = F.softmax(scores.view(-1, y.size(1)))\n",
      "/home/vmdev/notebooks/5/DrQA/drqa/reader/layers.py:280: UserWarning: Implicit dimension choice for softmax has been deprecated. Change the call to include dim=X as an argument.\n",
      "  alpha = F.softmax(scores)\n",
      "/home/vmdev/notebooks/5/DrQA/drqa/reader/layers.py:253: UserWarning: Implicit dimension choice for softmax has been deprecated. Change the call to include dim=X as an argument.\n",
      "  alpha = F.softmax(xWy)\n"
     ]
    },
    {
     "name": "stdout",
     "output_type": "stream",
     "text": [
      "Resposta(s):\n",
      "1) a teoria da relatividade geral / Prob.: 56.37%\n"
     ]
    }
   ],
   "source": [
    "document = \"Albert Einstein foi um físico teórico alemão que desenvolveu a teoria da relatividade geral, um dos pilares da física moderna ao lado da mecânica quântica. Embora mais conhecido por sua fórmula de equivalência massa-energia, E=mc² \"\n",
    "question = \"O que Albert Einstein desenvolveu?\"\n",
    "processReader(document, question, True)"
   ]
  },
  {
   "cell_type": "code",
   "execution_count": null,
   "metadata": {
    "collapsed": true
   },
   "outputs": [],
   "source": []
  }
 ],
 "metadata": {
  "kernelspec": {
   "display_name": "Python 3",
   "language": "python",
   "name": "python3"
  },
  "language_info": {
   "codemirror_mode": {
    "name": "ipython",
    "version": 3
   },
   "file_extension": ".py",
   "mimetype": "text/x-python",
   "name": "python",
   "nbconvert_exporter": "python",
   "pygments_lexer": "ipython3",
   "version": "3.5.4"
  }
 },
 "nbformat": 4,
 "nbformat_minor": 2
}
